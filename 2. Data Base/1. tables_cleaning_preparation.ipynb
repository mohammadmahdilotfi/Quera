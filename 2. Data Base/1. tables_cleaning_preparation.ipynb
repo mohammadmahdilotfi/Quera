{
 "cells": [
  {
   "cell_type": "code",
   "execution_count": 2,
   "metadata": {},
   "outputs": [],
   "source": [
    "import pandas as pd\n",
    "import numpy as np"
   ]
  },
  {
   "attachments": {},
   "cell_type": "markdown",
   "metadata": {},
   "source": [
    "Concat Tables of GoalKeepers detailed info and Other players:"
   ]
  },
  {
   "cell_type": "code",
   "execution_count": 3,
   "metadata": {},
   "outputs": [],
   "source": [
    "df1 = pd.read_json('Players_ex_gk_detailed_table.json')\n",
    "df2 = pd.read_json('Gk_detailed_table.json')\n",
    "df = pd.concat([df2, df1], ignore_index=True, sort=False)\n",
    "df = df.sort_values('Player_id', ascending=False)\n",
    "df = df.reset_index(drop=True)\n",
    "df.to_json('P2_player_state', orient='records', indent=4)"
   ]
  },
  {
   "attachments": {},
   "cell_type": "markdown",
   "metadata": {},
   "source": [
    "Extract all Club name with their IDs:"
   ]
  },
  {
   "cell_type": "code",
   "execution_count": 4,
   "metadata": {},
   "outputs": [],
   "source": [
    "team_list = df[['Club','Team_id']].drop_duplicates()\n",
    "team_list = team_list.sort_values('Team_id', ascending=False)\n",
    "team_list = team_list.reset_index(drop=True)\n",
    "# team_list.to_json('P2_teams.json', orient='records', indent=4)"
   ]
  },
  {
   "attachments": {},
   "cell_type": "markdown",
   "metadata": {},
   "source": [
    "Extract all competition list and define Competition ID:"
   ]
  },
  {
   "cell_type": "code",
   "execution_count": 5,
   "metadata": {},
   "outputs": [],
   "source": [
    "competition_list = df[['Competition']].drop_duplicates()\n",
    "competition_list = competition_list.sort_values('Competition', ascending=True)\n",
    "competition_list = competition_list.reset_index(drop=True)\n",
    "competition_list.to_json('P2_competitions.json', orient='records', indent=4)\n"
   ]
  },
  {
   "attachments": {},
   "cell_type": "markdown",
   "metadata": {},
   "source": [
    "Merge total information of players with their general information:"
   ]
  },
  {
   "cell_type": "code",
   "execution_count": 6,
   "metadata": {},
   "outputs": [],
   "source": [
    "df3 = pd.read_json('total_apperance_info_players.json')\n",
    "df4 = pd.read_json('total_apperance_info_gks.json')\n",
    "df = pd.concat([df3, df4], ignore_index=True, sort=False)\n",
    "df = df.sort_values('player_id', ascending=False)\n",
    "df = df.reset_index(drop=True)"
   ]
  },
  {
   "cell_type": "code",
   "execution_count": 7,
   "metadata": {},
   "outputs": [],
   "source": [
    "cols = list(df.columns)\n",
    "cols = [cols[-3]] + cols[:-3] + cols[-2:]\n",
    "df = df[cols]\n",
    "df = df.rename(columns={'player_id':'id','Squad':'total_squad','Apperance':'total_apperance',\n",
    "                        'PPG': 'total_ppg','Goals':'total_goals_in_clubs','Assists':'total_assists',\n",
    "                        'Yellow_card':'total_yellow_card','Second_yellow_card': 'total_second_yellow_card',\n",
    "                        'Red_card':'total_red_card','Minutes_per_goal':'total_minutes_per_goal',\n",
    "                        'Minutes_played':'total_minutes_played','Goals_conceded':'total_goal_conceded',\n",
    "                        'Clean_sheets':'total_clean_sheets','Own_goal':'total_own_goal','Penalty_goals':'total_penalty',\n",
    "                        'Substitutions_on':'total_sub_on','Substitutions_off':'total_sub_off'})"
   ]
  },
  {
   "cell_type": "code",
   "execution_count": 8,
   "metadata": {},
   "outputs": [],
   "source": [
    "df5 = pd.read_json('player_details.json')\n",
    "df5 = df5.rename(columns={'Player_ID': 'id','Name':'full_name', 'Place of birth':'birth_place',\n",
    "                          'Age':'age', 'Height':'height','Citizenship':'citizenship', 'Foot':'foot',\n",
    "                          'Nationality':'nationality', 'Caps':'caps','Main position':'main_position',\n",
    "                          'Other position':'available_positions','Current market value':'current_market_value',\n",
    "                          'Highest market value':'highest_market_value','Goals':'international_goals'})\n",
    "df5=df5.drop('Joined', axis=1)"
   ]
  },
  {
   "cell_type": "code",
   "execution_count": 9,
   "metadata": {},
   "outputs": [],
   "source": [
    "player_totals = pd.merge(df, df5, on='id', how='inner')\n",
    "player_totals.to_json('Players.json', orient='records', indent=4)"
   ]
  },
  {
   "cell_type": "code",
   "execution_count": 10,
   "metadata": {},
   "outputs": [
    {
     "data": {
      "text/plain": [
       "Index(['id', 'total_squad', 'total_apperance', 'total_ppg',\n",
       "       'total_goals_in_clubs', 'total_assists', 'total_own_goal',\n",
       "       'total_sub_on', 'total_sub_off', 'total_yellow_card',\n",
       "       'total_second_yellow_card', 'total_red_card', 'total_penalty',\n",
       "       'total_minutes_per_goal', 'total_minutes_played', 'total_goal_conceded',\n",
       "       'total_clean_sheets', 'full_name', 'Date of birth', 'birth_place',\n",
       "       'age', 'height', 'citizenship', 'Position', 'foot', 'nationality',\n",
       "       'caps', 'international_goals', 'Current club', 'Outfitter',\n",
       "       'main_position', 'available_positions', 'current_market_value',\n",
       "       'highest_market_value'],\n",
       "      dtype='object')"
      ]
     },
     "execution_count": 10,
     "metadata": {},
     "output_type": "execute_result"
    }
   ],
   "source": [
    "player_totals.columns"
   ]
  },
  {
   "cell_type": "code",
   "execution_count": 11,
   "metadata": {},
   "outputs": [],
   "source": [
    "player_totals= player_totals.drop(['Date of birth','Position','Current club','Outfitter'],axis=1)"
   ]
  },
  {
   "cell_type": "code",
   "execution_count": 12,
   "metadata": {},
   "outputs": [],
   "source": [
    "def get_length(my_list):\n",
    "    return len(my_list)+1\n",
    "player_totals['available_positions'] = player_totals['available_positions'].apply(get_length)"
   ]
  }
 ],
 "metadata": {
  "kernelspec": {
   "display_name": "qenv",
   "language": "python",
   "name": "qenv"
  },
  "language_info": {
   "codemirror_mode": {
    "name": "ipython",
    "version": 3
   },
   "file_extension": ".py",
   "mimetype": "text/x-python",
   "name": "python",
   "nbconvert_exporter": "python",
   "pygments_lexer": "ipython3",
   "version": "3.9.13"
  },
  "orig_nbformat": 4
 },
 "nbformat": 4,
 "nbformat_minor": 2
}
