{
 "cells": [
  {
   "cell_type": "code",
   "execution_count": 8,
   "id": "c850be5a",
   "metadata": {},
   "outputs": [],
   "source": [
    "import pandas as pd\n",
    "import numpy as np\n",
    "import matplotlib.pyplot as plt\n",
    "import seaborn as sns\n",
    "from sklearn.preprocessing import StandardScaler\n",
    "from sklearn.linear_model import LinearRegression"
   ]
  },
  {
   "cell_type": "code",
   "execution_count": 9,
   "id": "cbd23a67",
   "metadata": {},
   "outputs": [
    {
     "name": "stdout",
     "output_type": "stream",
     "text": [
      "League\n",
      "Bundesliga         954\n",
      "LaLiga             951\n",
      "Ligue 1           1067\n",
      "Premier League    1071\n",
      "Serie A           1089\n",
      "Name: 0, dtype: int64\n"
     ]
    }
   ],
   "source": [
    "# Get the number of goals scored in different leagues.\n",
    "\n",
    "df = pd.read_json('league_data.json')\n",
    "\n",
    "df_filtered = df[df['Season'] == '2021-2022']\n",
    "# Extract the goals column\n",
    "goals_column = df_filtered['Goals']\n",
    "\n",
    "# Split the goals into home and away goals\n",
    "goals_split = goals_column.str.split(':', expand=True)\n",
    "\n",
    "# Convert the goals to numeric values\n",
    "goals = pd.to_numeric(goals_split[0])\n",
    "\n",
    "# Group the goals by league and calculate the sum\n",
    "goals_by_league = goals.groupby(df_filtered['League']).sum()\n",
    "# Display the number of goals scored in different leagues\n",
    "print(goals_by_league)\n"
   ]
  },
  {
   "cell_type": "code",
   "execution_count": null,
   "id": "ee0ac5c4",
   "metadata": {},
   "outputs": [],
   "source": []
  }
 ],
 "metadata": {
  "kernelspec": {
   "display_name": "qenv",
   "language": "python",
   "name": "qenv"
  },
  "language_info": {
   "codemirror_mode": {
    "name": "ipython",
    "version": 3
   },
   "file_extension": ".py",
   "mimetype": "text/x-python",
   "name": "python",
   "nbconvert_exporter": "python",
   "pygments_lexer": "ipython3",
   "version": "3.9.13"
  }
 },
 "nbformat": 4,
 "nbformat_minor": 5
}
