{
 "cells": [
  {
   "cell_type": "code",
   "execution_count": 3,
   "metadata": {},
   "outputs": [],
   "source": [
    "import pandas as pd\n",
    "import numpy as np\n",
    "from scipy.stats import f_oneway"
   ]
  },
  {
   "cell_type": "code",
   "execution_count": 4,
   "metadata": {},
   "outputs": [],
   "source": [
    "df = pd.read_json('P2_player_state.json')"
   ]
  },
  {
   "cell_type": "code",
   "execution_count": 85,
   "metadata": {},
   "outputs": [],
   "source": [
    "df = df.loc[((df['Season']== '21/22'))]\n",
    "df = df.loc[(df.Competition =='Bundesliga')|(df.empetition =='Ligue 1')|(df.Competition =='Serie A')|(df.Competition =='Premier League')|(df.Competition =='LaLiga')]\n",
    "cols_with_dash = df.columns[df.isin(['-']).any()]\n",
    "df[cols_with_dash] = df[cols_with_dash].replace('-', 0, regex=True)"
   ]
  },
  {
   "cell_type": "code",
   "execution_count": 86,
   "metadata": {},
   "outputs": [],
   "source": [
    "cols_to_convert = [ 'Apperance']\n",
    "df[cols_to_convert] = df[cols_to_convert].fillna(0)\n",
    "df[cols_to_convert] = df[cols_to_convert].astype(int)"
   ]
  },
  {
   "cell_type": "code",
   "execution_count": 87,
   "metadata": {},
   "outputs": [],
   "source": [
    "df = df.loc[:,['Player_id','Apperance']]\n",
    "df['Active']=0\n",
    "df.loc[df['Apperance']>=8, 'Active'] = 1\n",
    "df = df.rename(columns={'Player_id': 'id'})"
   ]
  },
  {
   "cell_type": "code",
   "execution_count": 88,
   "metadata": {},
   "outputs": [],
   "source": [
    "df_age=pd.read_json('table_for_statistics.json')\n",
    "df_age=df_age.loc[:,['id','age']]\n",
    "df_merged =pd.merge(df,df_age,on='id',how='left')\n",
    "df_merged.age.fillna(df_merged.age.mean(),inplace=True)\n",
    "df_merged.age = df_merged.age-1"
   ]
  },
  {
   "cell_type": "code",
   "execution_count": null,
   "metadata": {},
   "outputs": [],
   "source": []
  },
  {
   "cell_type": "code",
   "execution_count": 89,
   "metadata": {},
   "outputs": [],
   "source": [
    "df_temp = pd.read_json('teams.json')\n",
    "df_temp = df_temp[['id', 'players_ids','year']]\n",
    "df_temp = df_temp[df_temp['year'] == '2021/2022']\n",
    "df_temp = df_temp[['id', 'players_ids']]\n",
    "df_temp = df_temp.rename(columns={'id': 'team_id','players_ids': 'id'})\n",
    "df_temp = df_temp.reset_index(drop=True)\n",
    "df_temp = df_temp.explode('id')\n",
    "df_temp = df_temp.astype(int)"
   ]
  },
  {
   "cell_type": "code",
   "execution_count": 90,
   "metadata": {},
   "outputs": [],
   "source": [
    "df_final = pd.merge(df_merged,df_temp,on='id',how='left')"
   ]
  },
  {
   "cell_type": "code",
   "execution_count": 91,
   "metadata": {},
   "outputs": [
    {
     "data": {
      "text/plain": [
       "count    98.000000\n",
       "mean     25.282438\n",
       "std       1.052700\n",
       "min      23.307692\n",
       "25%      24.565315\n",
       "50%      25.103134\n",
       "75%      25.915974\n",
       "max      27.836036\n",
       "Name: age, dtype: float64"
      ]
     },
     "execution_count": 91,
     "metadata": {},
     "output_type": "execute_result"
    }
   ],
   "source": [
    "bins = df_final.groupby('team_id').agg({'Active':'sum','age': 'mean'})\n",
    "bins.age.describe()"
   ]
  },
  {
   "cell_type": "code",
   "execution_count": 92,
   "metadata": {},
   "outputs": [
    {
     "data": {
      "text/plain": [
       "Normal      55\n",
       "Youngest    22\n",
       "Oldest      21\n",
       "Name: age_level, dtype: int64"
      ]
     },
     "execution_count": 92,
     "metadata": {},
     "output_type": "execute_result"
    }
   ],
   "source": [
    "bins['age_level'] = 'Normal'\n",
    "bins.loc[bins['age']<=24.5, 'age_level'] = 'Youngest'\n",
    "bins.loc[bins['age']>=26, 'age_level'] = 'Oldest'\n",
    "bins.age_level.value_counts()"
   ]
  },
  {
   "cell_type": "code",
   "execution_count": 93,
   "metadata": {},
   "outputs": [],
   "source": [
    "g1 = bins[bins.age_level=='Youngest']['Active'].values\n",
    "g2 = bins[bins.age_level=='Normal']['Active'].values\n",
    "g3 = bins[bins.age_level=='Oldest']['Active'].values"
   ]
  },
  {
   "cell_type": "code",
   "execution_count": 94,
   "metadata": {},
   "outputs": [
    {
     "name": "stdout",
     "output_type": "stream",
     "text": [
      "The groups are from the same distribution.\n"
     ]
    }
   ],
   "source": [
    "#ANNOVA\n",
    "stat, p = f_oneway(g1, g2, g3)\n",
    "\n",
    "if p < 0.05:\n",
    "    print(\"The groups are not from the same distribution.\")\n",
    "else:\n",
    "    print(\"The groups are from the same distribution.\")"
   ]
  }
 ],
 "metadata": {
  "kernelspec": {
   "display_name": "qenv",
   "language": "python",
   "name": "qenv"
  },
  "language_info": {
   "codemirror_mode": {
    "name": "ipython",
    "version": 3
   },
   "file_extension": ".py",
   "mimetype": "text/x-python",
   "name": "python",
   "nbconvert_exporter": "python",
   "pygments_lexer": "ipython3",
   "version": "3.9.13"
  },
  "orig_nbformat": 4
 },
 "nbformat": 4,
 "nbformat_minor": 2
}
