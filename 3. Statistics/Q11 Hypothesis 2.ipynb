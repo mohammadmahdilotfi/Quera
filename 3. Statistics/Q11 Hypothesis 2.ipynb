{
 "cells": [
  {
   "cell_type": "code",
   "execution_count": 7,
   "metadata": {},
   "outputs": [],
   "source": [
    "# libraries\n",
    "import numpy as np\n",
    "import pandas as pd\n",
    "import scipy as sp\n",
    "import warnings\n",
    "from scipy.stats import ttest_ind\n",
    "warnings.filterwarnings('ignore')\n",
    "\n",
    "\n",
    "ch_teams = ['Atalanta BC','Atlético Madrid','Barcelona','Bayern Munich','Bor. Dortmund','Chelsea','Inter','Juventus','LOSC Lille','Liverpool','Man City','Man Utd','AC Milan','Paris SG','RB Leipzig','Real Madrid','Sevilla FC','VfL Wolfsburg','Villarreal']\n",
    "df1 = pd.read_json('league_data-Copy1.json')\n",
    "table_2021 = df1[df1['Season'] == '2020-2021']\n",
    "tt = df1[df1['Season'] == '2020-2021']\n",
    "MAX_PTS = table_2021['Pts'].max()\n",
    "MIN_PTS = table_2021['Pts'].min()\n",
    "champion_teams_pts_normalize = list()\n",
    "other_teams_pts_normalize = list()\n",
    "pts_normalize = list()\n",
    "\n",
    "for i in range(table_2021.shape[0]):\n",
    "    pts_normalize.append((table_2021.iloc[i, 11]-MIN_PTS)/(MAX_PTS-MIN_PTS))\n",
    "\n",
    "table_2021['pts_normalize'] = pts_normalize\n",
    "for j in ch_teams:\n",
    "    champion_teams_pts_normalize.append(table_2021[table_2021['Club'] == j].iloc[0,12])\n",
    "    table_2021.drop(table_2021[table_2021['Club'] == j].index,inplace=True)\n",
    "\n",
    "other_teams_pts_normalize = list(table_2021['pts_normalize'])\n",
    "champion_teams_pts_normalize_arr = np.array(champion_teams_pts_normalize)\n",
    "other_teams_pts_normalize_arr = np.array(other_teams_pts_normalize)"
   ]
  },
  {
   "cell_type": "code",
   "execution_count": 8,
   "metadata": {},
   "outputs": [
    {
     "name": "stdout",
     "output_type": "stream",
     "text": [
      "T-statistic: -9.567523378892512\n",
      "P-value: 1.2637901132643186e-15\n"
     ]
    }
   ],
   "source": [
    "t_stat, p_value = ttest_ind(other_teams_pts_normalize_arr, champion_teams_pts_normalize_arr)\n",
    "print(\"T-statistic:\", t_stat)\n",
    "print(\"P-value:\", p_value)"
   ]
  }
 ],
 "metadata": {
  "kernelspec": {
   "display_name": "qenv",
   "language": "python",
   "name": "qenv"
  },
  "language_info": {
   "codemirror_mode": {
    "name": "ipython",
    "version": 3
   },
   "file_extension": ".py",
   "mimetype": "text/x-python",
   "name": "python",
   "nbconvert_exporter": "python",
   "pygments_lexer": "ipython3",
   "version": "3.9.13"
  },
  "orig_nbformat": 4
 },
 "nbformat": 4,
 "nbformat_minor": 2
}
